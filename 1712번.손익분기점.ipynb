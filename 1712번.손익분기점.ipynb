{
 "cells": [
  {
   "cell_type": "code",
   "execution_count": 1,
   "id": "arbitrary-table",
   "metadata": {},
   "outputs": [
    {
     "name": "stdout",
     "output_type": "stream",
     "text": [
      "1000 70 170\n",
      "11\n"
     ]
    }
   ],
   "source": [
    "# 1차 시도\n",
    "# 1차 코드에서 input값이 커지면 runtime error가 발생(조건 'A, B, C는 21억 이하의 자연수' 때문)\n",
    "fix, change, sale = map(int,input().split())\n",
    "judge = True\n",
    "cnt = 1\n",
    "if change >= sale:\n",
    "    cnt = -1\n",
    "    print(cnt)\n",
    "else:    \n",
    "    while judge:\n",
    "        if fix + (change * cnt) < sale * cnt:\n",
    "            judge = False\n",
    "            print(cnt)\n",
    "        else:\n",
    "            cnt += 1"
   ]
  },
  {
   "cell_type": "markdown",
   "id": "suspected-tract",
   "metadata": {},
   "source": [
    "A : 고정비용, B : 가변비용, C : 판매비용\n",
    "\n",
    "<손익분기점이 발생하는 지점>   \n",
    "A + BN < CN   \n",
    "A < (C-B)N   \n",
    "A / (C-B) < N"
   ]
  },
  {
   "cell_type": "code",
   "execution_count": 3,
   "id": "infectious-reservoir",
   "metadata": {},
   "outputs": [
    {
     "name": "stdout",
     "output_type": "stream",
     "text": [
      "2100000000 9 10\n",
      "2100000001\n"
     ]
    }
   ],
   "source": [
    "# 2차 시도\n",
    "fix, change, sale = map(int,input().split())\n",
    "cnt = 0\n",
    "if change >= sale:\n",
    "    print(-1)\n",
    "else:\n",
    "    cnt = fix // (sale - change) \n",
    "    print(cnt + 1)"
   ]
  }
 ],
 "metadata": {
  "kernelspec": {
   "display_name": "Python 3",
   "language": "python",
   "name": "python3"
  },
  "language_info": {
   "codemirror_mode": {
    "name": "ipython",
    "version": 3
   },
   "file_extension": ".py",
   "mimetype": "text/x-python",
   "name": "python",
   "nbconvert_exporter": "python",
   "pygments_lexer": "ipython3",
   "version": "3.8.5"
  }
 },
 "nbformat": 4,
 "nbformat_minor": 5
}
