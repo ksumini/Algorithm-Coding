{
 "cells": [
  {
   "cell_type": "code",
   "execution_count": 2,
   "id": "characteristic-transaction",
   "metadata": {},
   "outputs": [
    {
     "name": "stdout",
     "output_type": "stream",
     "text": [
      "5 21\n",
      "5 6 7 8 9\n",
      "21\n"
     ]
    }
   ],
   "source": [
    "# 1차 시도 \n",
    "# runtime error 발생\n",
    "\n",
    "N, M = map(int, input().split())\n",
    "num = sorted(list(map(int, input().split())))\n",
    "\n",
    "# n개중 r개를 뽑는 순열 문제라고 생각해서 permutations 함수 사용\n",
    "from itertools import permutations\n",
    "\n",
    "# 1) 가능한 모든 합을 구하기\n",
    "sum_list = []\n",
    "for i in list(permutations(num, 3)):\n",
    "    sum_list.append(sum(i))\n",
    "\n",
    "# 2) 모든 합 중에서 가장 큰 수를 지워 가면서 그 수가 M보다 작거나 같을 때까지 while문을 돔\n",
    "while max(sum_list) > M:\n",
    "    for i in sum_list:\n",
    "        if i == max(sum_list):\n",
    "            sum_list.remove(i)\n",
    "ans = max(sum_list)\n",
    "print(ans)"
   ]
  },
  {
   "cell_type": "code",
   "execution_count": 8,
   "id": "excess-jackson",
   "metadata": {},
   "outputs": [
    {
     "name": "stdout",
     "output_type": "stream",
     "text": [
      "10 500\n",
      "93 181 245 214 315 36 185 138 216 295\n",
      "497\n"
     ]
    }
   ],
   "source": [
    "# 2차 시도\n",
    "# 합이 M보다 작거나 같은 경우의 숫자들만 모아서 그 중에서 가장 큰 수를 구하는 방식\n",
    "N, M = map(int, input().split())\n",
    "num = sorted(list(map(int, input().split())))\n",
    "\n",
    "from itertools import permutations \n",
    "\n",
    "sum_list = []\n",
    "for i in list(permutations(num, 3)):\n",
    "    if sum(i) <= M:\n",
    "        sum_list.append(sum(i))\n",
    "\n",
    "print(max(sum_list))"
   ]
  },
  {
   "cell_type": "code",
   "execution_count": 1,
   "id": "adverse-insert",
   "metadata": {},
   "outputs": [
    {
     "name": "stdout",
     "output_type": "stream",
     "text": [
      "5 21\n",
      "5 6 7 8 9\n",
      "21\n"
     ]
    }
   ],
   "source": [
    "# 3차 시도\n",
    "# permutations function 사용하지 않고 \n",
    "# 3중 for문을 사용해 모든 경우의 수를 직접 계산해 가장 큰 수를 구하는 방법\n",
    " \n",
    "N, M = map(int, input().split())\n",
    "num = list(map(int, input().split()))\n",
    "ans = 0\n",
    "for i in range(N):\n",
    "    for j in range(i+1, N):\n",
    "        for k in range(j+1, N):\n",
    "            if num[i] + num[j] + num[k] <= M:\n",
    "                ans = max(ans, num[i]+num[j]+num[k])\n",
    "print(ans)"
   ]
  }
 ],
 "metadata": {
  "kernelspec": {
   "display_name": "Python 3",
   "language": "python",
   "name": "python3"
  },
  "language_info": {
   "codemirror_mode": {
    "name": "ipython",
    "version": 3
   },
   "file_extension": ".py",
   "mimetype": "text/x-python",
   "name": "python",
   "nbconvert_exporter": "python",
   "pygments_lexer": "ipython3",
   "version": "3.8.5"
  }
 },
 "nbformat": 4,
 "nbformat_minor": 5
}
