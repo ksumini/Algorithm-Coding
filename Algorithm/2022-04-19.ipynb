{
 "cells": [
  {
   "cell_type": "markdown",
   "id": "99f1fd05",
   "metadata": {},
   "source": [
    "# 아기 상어\n",
    "- https://www.acmicpc.net/problem/16236"
   ]
  },
  {
   "cell_type": "markdown",
   "id": "a72363c2",
   "metadata": {},
   "source": [
    "- 가장 처음 아기 상어의 크기는 2\n",
    "- 상어는 크기가 같거나 작은 물고기가 있는 칸만 지나갈 수 있음\n",
    "- 크기가 더 작은 물고기만 먹을 수 있음\n",
    "- 자신의 크기만큼의 물고기를 먹으면 크기가 1 증가한다."
   ]
  },
  {
   "cell_type": "markdown",
   "id": "e1368f14",
   "metadata": {},
   "source": [
    "아기 상어가 이동하는 방식\n",
    "- 더 이상 먹을 수 있는 물고기가 공간에 없다면 아기 상어는 엄마 상어에게 도움을 요청한다.\n",
    "- 먹을 수 있는 물고기가 1마리라면, 그 물고기를 먹으러 간다.\n",
    "- 먹을 수 있는 물고기가 1마리보다 많다면, 거리가 가장 가까운 물고기를 먹으러 간다.\n",
    "    - 거리는 아기 상어가 있는 칸에서 물고기가 있는 칸으로 이동할 때, 지나야하는 칸의 개수의 최솟값이다.\n",
    "    - 거리가 가까운 물고기가 많다면, 가장 위에 있는 물고기, 그러한 물고기가 여러마리라면, 가장 왼쪽에 있는 물고기를 먹는다."
   ]
  },
  {
   "cell_type": "markdown",
   "id": "b690f8ee",
   "metadata": {},
   "source": [
    "- 0: 빈 칸\n",
    "- 1, 2, 3, 4, 5, 6: 칸에 있는 물고기의 크기\n",
    "- 9: 아기 상어의 위치"
   ]
  },
  {
   "cell_type": "markdown",
   "id": "14c60b11",
   "metadata": {},
   "source": [
    "구현 방식\n",
    "1. 아기 상어의 처음 위치 확인\n",
    "2. bfs를 이용해 모든 위치까지 최단 거리 구하기\n",
    "    - 현재 아기 상어의 크기와 같거나 작은 위치로는 도달할 수 있음\n",
    "    - 도달할 수 없는 경우 -1\n",
    "3. 최단 거리 테이블에서 가장 가까운 먹을 수 있는 물고기를 찾기\n",
    "4. 아기 상어 위치를 먹을 수 있는 물고기 위치로 이동하고 먹은 위치는 0으로 바꿔줌\n",
    "    - 자신의 현재 크기만큼 물고기를 먹으면 물고기 크기를 1 증가 시키고 먹은 물고기수 초기화"
   ]
  },
  {
   "cell_type": "code",
   "execution_count": 4,
   "id": "9c0e6bbc",
   "metadata": {},
   "outputs": [
    {
     "name": "stdout",
     "output_type": "stream",
     "text": [
      "4\n",
      "4 3 2 1\n",
      "0 0 0 0\n",
      "0 0 9 0\n",
      "1 2 3 4\n",
      "14\n"
     ]
    }
   ],
   "source": [
    "from collections import deque\n",
    "INF = 1e9\n",
    "\n",
    "# 공간의 크기\n",
    "n = int(input())\n",
    "# 공간의 상태\n",
    "arr = [list(map(int, input().split())) for _ in range(n)]\n",
    "\n",
    "# 아기 상어의 현재 크기 변수와 현재 위치 변수\n",
    "now_size = 2\n",
    "now_x, now_y = 0, 0\n",
    "\n",
    "# 아기 상어의 시작 위치를 찾은 뒤에 그 위치엔 아무것도 없다고 처리\n",
    "for i in range(n):\n",
    "    for j in range(n):\n",
    "        if arr[i][j] == 9:\n",
    "            now_x, now_y = i, j\n",
    "            arr[i][j] = 0\n",
    "\n",
    "dx = [-1, 1, 0, 0]\n",
    "dy = [0, 0, 1, -1]\n",
    "\n",
    "# 모든 위치까지의 '최단 거리만' 계산하는 BFS 함수\n",
    "def bfs():\n",
    "    # 값이 -1이라면 도달할 수 없다는 의미 (초기화)\n",
    "    dist = [[-1] * n for _ in range(n)]\n",
    "    # 시작 위치는 도달이 가능하다고 보며 거리는 0\n",
    "    q = deque([(now_x, now_y)])\n",
    "    dist[now_x][now_y] = 0\n",
    "    while q:\n",
    "        x, y = q.popleft()\n",
    "        for i in range(4):\n",
    "            nx = x + dx[i]\n",
    "            ny = y + dy[i]\n",
    "            if 0 <= nx < n and 0 <= ny < n:\n",
    "                # 자신의 크기보다 작거나 같은 경우에 지나갈 수 있음\n",
    "                if dist[nx][ny] == -1 and arr[nx][ny] <= now_size:\n",
    "                    dist[nx][ny] = dist[x][y] + 1\n",
    "                    q.append((nx, ny))\n",
    "                    \n",
    "    \n",
    "    # 모든 위치까지의 최단 거리 테이블 반환\n",
    "    return dist\n",
    "\n",
    "# 최단 거리 테이블이 주어졌을 때, 먹을 물고기를 찾는 함수\n",
    "def find(dist):\n",
    "    x, y = 0, 0\n",
    "    min_dist = INF\n",
    "    for i in range(n):\n",
    "        for j in range(n):\n",
    "            # 도달이 가능하면서 먹을 수 있는 물고기일 때\n",
    "            if dist[i][j] != -1 and 1 <= arr[i][j] and arr[i][j] < now_size:\n",
    "                # 가장 가까운 물고기 1마리만 선택\n",
    "                if dist[i][j] < min_dist:\n",
    "                    x, y = i, j\n",
    "                    min_dist = dist[i][j]\n",
    "    if min_dist == INF: # 먹을 수 있는 물고기가 없는 경우\n",
    "        return None\n",
    "    else:\n",
    "        return x, y, min_dist # 먹을 물고기의 위치와 최단 거리\n",
    "\n",
    "result = 0 # 최종 답안\n",
    "ate = 0 # 현재 크기에서 먹은 양\n",
    "\n",
    "while True:\n",
    "    # 먹을 수 있는 물고기의 위치 찾기\n",
    "    value = find(bfs())\n",
    "    # 먹을 수 있는 물고기가 없는 경우, 현재까지 움직인 거리 출력\n",
    "    if value == None:\n",
    "        print(result)\n",
    "        break\n",
    "    else:\n",
    "        # 현재 위치 갱신 및 이동 거리 변경\n",
    "        now_x, now_y = value[0], value[1]\n",
    "        # 이동한 거리만큼 시간 추가\n",
    "        result += value[2]\n",
    "        # 먹은 위치에는 이제 아무것도 없도록 처리\n",
    "        arr[now_x][now_y] = 0\n",
    "        ate += 1\n",
    "        # 자신의 현재 크기 이상으로 먹은 경우, 크기 증가\n",
    "        if ate == now_size:\n",
    "            now_size+= 1\n",
    "            ate = 0"
   ]
  },
  {
   "cell_type": "markdown",
   "id": "e66e8f2d",
   "metadata": {},
   "source": [
    "# 트리의 지름\n",
    "- https://www.acmicpc.net/problem/1967"
   ]
  },
  {
   "cell_type": "markdown",
   "id": "a0c12672",
   "metadata": {},
   "source": [
    "**다익스트라 알고리즘 응용**"
   ]
  },
  {
   "cell_type": "code",
   "execution_count": 92,
   "id": "75433b3c",
   "metadata": {},
   "outputs": [
    {
     "name": "stdout",
     "output_type": "stream",
     "text": [
      "12\n",
      "1 2 3\n",
      "1 3 2\n",
      "2 4 5\n",
      "3 5 11\n",
      "3 6 9\n",
      "4 7 1\n",
      "4 8 7\n",
      "5 9 15\n",
      "5 10 4\n",
      "6 11 6\n",
      "6 12 10\n",
      "45\n"
     ]
    }
   ],
   "source": [
    "from collections import deque\n",
    "\n",
    "n = int(input())\n",
    "graph = [[] for _ in range(n+1)]\n",
    "# 트리\n",
    "for _ in range(n-1):\n",
    "    a, b, w = map(int, input().split())\n",
    "    graph[a].append((b, w))\n",
    "    graph[b].append((a, w))\n",
    "    \n",
    "ans = 0\n",
    "# 전체 노드를 탐색\n",
    "for node in range(1, n+1):\n",
    "    q = deque()\n",
    "    # 거리 테이블을 0으로 초기화\n",
    "    dist = [0] * (n+1)\n",
    "    # 방문한 적이 있는지 체크하는 리스트\n",
    "    visited = [False] * (n+1)\n",
    "    q.append((0, node))\n",
    "    visited[node] = True\n",
    "    \n",
    "    while q:\n",
    "        now_dist, now_node = q.popleft()\n",
    "        for next_node, next_dist in graph[now_node]:\n",
    "            if not visited[next_node]:\n",
    "                cost = now_dist + next_dist\n",
    "                visited[next_node] = True\n",
    "                # 현재 노드를 거쳐서 다른 노드로 이동하는 거리가 더 긴 경우\n",
    "                if cost > dist[next_node]:\n",
    "                    dist[next_node] = cost\n",
    "                    q.append((cost, next_node))\n",
    "    ans = max(ans, max(dist))\n",
    "    \n",
    "print(ans)"
   ]
  },
  {
   "cell_type": "markdown",
   "id": "658c1f90",
   "metadata": {},
   "source": [
    "출처: https://blog.myungwoo.kr/112 \\\n",
    "\n",
    "**트리의 지름: 가장 먼 두 정점 사이의 거리 혹은 가장 먼 두 정점을 연결하는 경로**\n",
    "\n",
    "1. 트리에서 임의의 정점 x를 잡는다.\n",
    "2. 정점 x에서 가장 먼 정점 y를 찾는다.\n",
    "3. 정점 y에서 가장 먼 정점 z를 찾는다.\n",
    "\n",
    "-> 트리의 지름은 정점 y와 정점 z를 연결하는 경로"
   ]
  },
  {
   "cell_type": "markdown",
   "id": "a9e8e0ad",
   "metadata": {},
   "source": [
    "**DFS 소스코드**"
   ]
  },
  {
   "cell_type": "code",
   "execution_count": 5,
   "id": "a128c6da",
   "metadata": {},
   "outputs": [
    {
     "name": "stdout",
     "output_type": "stream",
     "text": [
      "12\n",
      "1 2 3\n",
      "1 3 2\n",
      "2 4 5\n",
      "3 5 11\n",
      "3 6 9\n",
      "4 7 1\n",
      "4 8 7\n",
      "5 9 15\n",
      "5 10 4\n",
      "6 11 6\n",
      "6 12 10\n"
     ]
    }
   ],
   "source": [
    "# 노드의 개수\n",
    "n = int(input())\n",
    "graph = [[] for _ in range(n+1)]\n",
    "\n",
    "# 트리 구현\n",
    "for _ in range(n-1):\n",
    "    a, b, w = map(int, input().split())\n",
    "    graph[a].append([b, w])\n",
    "    graph[b].append([a, w])\n",
    "\n",
    "def dfs(x, weight):\n",
    "    for i in graph[x]:\n",
    "        a, b = i\n",
    "        if distance[a] == -1:\n",
    "            distance[a] = weight + b\n",
    "            dfs(a, weight + b)\n",
    "\n",
    "# 1번 노드에서 가장 먼 곳을 찾는다.\n",
    "distance = [-1] * (n+1)\n",
    "distance[1] = 0\n",
    "dfs(1, 0)\n",
    "\n",
    "# 위에서 찾은 노드에 대한 가장 먼 노드를 찾는다.\n",
    "start = distance.index(max(distance))\n",
    "distance = [-1] * (n+1)\n",
    "distance[start] = 0\n",
    "dfs(start, 0)\n",
    "\n",
    "print(max(distance))"
   ]
  },
  {
   "cell_type": "markdown",
   "id": "7f169d16",
   "metadata": {},
   "source": [
    "**BFS 소스코드**"
   ]
  },
  {
   "cell_type": "code",
   "execution_count": 17,
   "id": "103837a8",
   "metadata": {},
   "outputs": [
    {
     "name": "stdout",
     "output_type": "stream",
     "text": [
      "12\n",
      "1 2 3\n",
      "1 3 2\n",
      "2 4 5\n",
      "3 5 11\n",
      "3 6 9\n",
      "4 7 1\n",
      "4 8 7\n",
      "5 9 15\n",
      "5 10 4\n",
      "6 11 6\n",
      "6 12 10\n"
     ]
    }
   ],
   "source": [
    "from collections import deque\n",
    "\n",
    "n = int(input())\n",
    "tree = [[] for _ in range(n+1)]\n",
    "for _ in range(n-1):\n",
    "    parent, child, weight = map(int, input().split())\n",
    "    tree[parent].append([weight, child])\n",
    "    tree[child].append([weight, parent])\n",
    "    \n",
    "def bfs(node):\n",
    "    q = deque()\n",
    "    q.append([0, node])\n",
    "    visited = [False] * (n+1)\n",
    "    visited[node] = True\n",
    "    \n",
    "    # 거리가 가장 먼 노드의 거리와 노드\n",
    "    diameter = [0, 0]\n",
    "    \n",
    "    while q:\n",
    "        dist, now = q.popleft()\n",
    "        for i in tree[now]:\n",
    "            w, next_num = i[0], i[1]\n",
    "            if not visited[next_num]:\n",
    "                visited[next_num] = True\n",
    "                q.append([dist+w, next_num])\n",
    "            \n",
    "                if diameter[0] < dist+w:\n",
    "                    diameter[1] = next_num\n",
    "                    diameter[0] = dist+w\n",
    "    return diameter\n",
    "\n",
    "parent = bfs(1)\n",
    "child = bfs(parent[1])\n",
    "print(child[0])"
   ]
  },
  {
   "cell_type": "markdown",
   "id": "ef52fc0c",
   "metadata": {},
   "source": [
    "# 로봇\n",
    "- https://www.acmicpc.net/problem/1726"
   ]
  },
  {
   "cell_type": "markdown",
   "id": "7cadadc0",
   "metadata": {},
   "source": [
    "- 명령 1. Go k: k는 1, 2 또는 3일 수 있다. 현재 향하고 있는 방향으로 k칸 만큼 움직인다.\n",
    "- 명령 2. Turn dir: dir은 left 또는 right 이며, 각각 왼쪽 또는 오른쪽으로 90° 회전한다."
   ]
  },
  {
   "cell_type": "markdown",
   "id": "155ac491",
   "metadata": {},
   "source": [
    "동쪽: 1, 서쪽: 2, 남쪽: 3, 북쪽: 4"
   ]
  },
  {
   "cell_type": "markdown",
   "id": "dc1ba73f",
   "metadata": {},
   "source": [
    "클린코드 출처: https://maeng2world.tistory.com/452"
   ]
  },
  {
   "cell_type": "markdown",
   "id": "ed0672a8",
   "metadata": {},
   "source": [
    "1. 최대 3칸까지 한 번에 갈 수 있음\n",
    "2. 회전이 존재한다. (오른쪽 or 왼쪽)\n",
    "3. 회전, 이동이 각각 한 번의 명령"
   ]
  },
  {
   "cell_type": "markdown",
   "id": "e2a9dd6d",
   "metadata": {},
   "source": [
    "**2차원 배열에 방향이 들어가게 되면 3차원 배열을 사용해야 함!!**"
   ]
  },
  {
   "cell_type": "code",
   "execution_count": 89,
   "id": "dfbeb391",
   "metadata": {},
   "outputs": [
    {
     "name": "stdout",
     "output_type": "stream",
     "text": [
      "5 6\n",
      "0 0 0 0 0 0\n",
      "0 1 1 0 1 0\n",
      "0 1 0 0 0 0\n",
      "0 0 1 1 1 0\n",
      "1 0 0 0 0 0\n",
      "4 2 3\n",
      "2 4 1\n",
      "9\n"
     ]
    }
   ],
   "source": [
    "from collections import deque\n",
    "\n",
    "# 세로(행)와 가로(열)의 길이\n",
    "m, n = map(int, input().split())\n",
    "# 궤도 설치 상태\n",
    "board = [list(map(int, input().split())) for _ in range(m)]\n",
    "# 출발 지점의 위치(행, 열, 방향)\n",
    "start_r, start_c, start_dir = map(int, input().split())\n",
    "# 도착 지점의 위치(행, 열, 방향)\n",
    "end_r, end_c, end_dir = map(int, input().split())\n",
    "\n",
    "# 배열 인덱스 맞추기 위해 1씩 빼줌\n",
    "start_r, start_c, end_r, end_c = start_r-1, start_c-1, end_r-1, end_c-1\n",
    "# 3차원 배열에서 인덱스 맞추기 위해 4로 나눈 나머지로 변경\n",
    "start_dir, end_dir = start_dir % 4, end_dir % 4\n",
    "\n",
    "# 오른쪽, 왼쪽 정보(북,동,서,남)\n",
    "change_dir = {0 :(1, 2), 1: (3, 0), 2: (0, 3), 3: (2, 1)}\n",
    "# 북동서남\n",
    "dr = [-1, 0, 0, 1]\n",
    "dc = [0, 1, -1, 0]\n",
    "\n",
    "# 각 위치별로 4방향(동서남북) 정보를 담을 수 있도록 * 4\n",
    "visited = [[[False]*4 for _ in range(n)] for _ in range(m)]\n",
    "\n",
    "q = deque()\n",
    "q.append([0, start_r, start_c, start_dir]) # 명령횟수, x(행), y(열), 방향\n",
    "visited[start_r][start_c][start_dir] = True # 방문처리\n",
    "\n",
    "while q:\n",
    "    now_cnt, now_r, now_c, now_dir = q.popleft()\n",
    "    # 목표 위치에 도착하면 명령 횟수 반환\n",
    "    if (now_r, now_c, now_dir) == (end_r, end_c, end_dir):\n",
    "        print(now_cnt)\n",
    "        break\n",
    "        \n",
    "    # 현재 방향에서 1, 2, 3칸 직진\n",
    "    for step in range(1, 4):\n",
    "        # 행\n",
    "        nr = now_r + dr[now_dir] * step\n",
    "        # 열\n",
    "        nc = now_c + dc[now_dir] * step\n",
    "        # 격자 내에서 로봇이 갈 수 있는 지점 & 방문 하지 않은 지점\n",
    "        if 0 <= nr < m and 0 <= nc < n and board[nr][nc] == 0:\n",
    "            if not visited[nr][nc][now_dir]:\n",
    "                visited[nr][nc][now_dir] = True # 방문 처리\n",
    "                q.append([now_cnt+1, nr, nc, now_dir]) # 명령횟수+1, 행, 열, 방향\n",
    "                \n",
    "        # 범위를 벗어나거나 궤도가 없어 로봇이 갈 수 없는 지점은 직진 불가능\n",
    "        else:\n",
    "            break\n",
    "            \n",
    "    # 방향 전환(오른쪽, 왼쪽)\n",
    "    for new_dir in change_dir[now_dir]:\n",
    "        if not visited[now_r][now_c][new_dir]:\n",
    "            q.append([now_cnt+1, now_r, now_c, new_dir])\n",
    "            visited[now_r][now_c][new_dir] = True"
   ]
  }
 ],
 "metadata": {
  "kernelspec": {
   "display_name": "Python 3 (ipykernel)",
   "language": "python",
   "name": "python3"
  },
  "language_info": {
   "codemirror_mode": {
    "name": "ipython",
    "version": 3
   },
   "file_extension": ".py",
   "mimetype": "text/x-python",
   "name": "python",
   "nbconvert_exporter": "python",
   "pygments_lexer": "ipython3",
   "version": "3.8.0"
  },
  "toc": {
   "base_numbering": 1,
   "nav_menu": {},
   "number_sections": true,
   "sideBar": true,
   "skip_h1_title": false,
   "title_cell": "Table of Contents",
   "title_sidebar": "Contents",
   "toc_cell": false,
   "toc_position": {},
   "toc_section_display": true,
   "toc_window_display": false
  }
 },
 "nbformat": 4,
 "nbformat_minor": 5
}
