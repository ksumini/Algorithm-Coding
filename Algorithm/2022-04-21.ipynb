{
 "cells": [
  {
   "cell_type": "markdown",
   "metadata": {},
   "source": [
    "# 선긋기\n",
    "- https://www.acmicpc.net/problem/2170"
   ]
  },
  {
   "cell_type": "markdown",
   "metadata": {},
   "source": [
    "- 여러 번 그은 곳과 한 번 그은 곳의 차이를 구별할 수 없음\n",
    "- 그려진 선들의 총 길이를 구하는 프로그램을 작성하시오\n",
    "- 선이 여러 번 그려진 곳은 한 번씩만 계산한다"
   ]
  },
  {
   "cell_type": "code",
   "execution_count": 53,
   "metadata": {},
   "outputs": [
    {
     "name": "stdout",
     "output_type": "stream",
     "text": [
      "4\n",
      "1 3\n",
      "2 5\n",
      "3 5\n",
      "6 7\n",
      "5\n"
     ]
    }
   ],
   "source": [
    "# N이 백만까지 주어지기 때문에 O(N) 또는 O(NlogN)의 시간복잡도를 보장해야 한다\n",
    "n = int(input())\n",
    "\n",
    "arr = [list(map(int, input().split())) for _ in range(n)]\n",
    "arr.sort(key=lambda x:[x[0]]) # NlogN\n",
    "\n",
    "ans = 0\n",
    "# result = []\n",
    "start, end = arr[0]\n",
    "for a, b in arr:\n",
    "    if a <= end and b > end:\n",
    "        end = b\n",
    "    elif a > end:\n",
    "#         result.append([start, end])\n",
    "        ans += end-start\n",
    "        start, end = a, b\n",
    "    \n",
    "# result.append([start, end])\n",
    "ans += end-start\n",
    "print(ans)"
   ]
  },
  {
   "cell_type": "markdown",
   "metadata": {},
   "source": [
    "# 좋다\n",
    "- https://www.acmicpc.net/problem/1253"
   ]
  },
  {
   "cell_type": "code",
   "execution_count": 161,
   "metadata": {},
   "outputs": [],
   "source": [
    "# n은 최대 2000개 -> 시간복잡도 O(N^2)까지 가능 (이중 for문)\n",
    "# 숫자는 음수, 0, 정수 다 가능 100억까지"
   ]
  },
  {
   "cell_type": "markdown",
   "metadata": {},
   "source": [
    "n개의 수 중에서 순서에 상관있게 서로 다른 수 2개를 선택하는 경우(순열)\n",
    "- permutations은 $O(N!)$이기 때문에 시간초과 남\n",
    "- 완전탐색(삼중for문)도 당연히 시간초과\n",
    "- 두 용액이랑 똑같은 문제\n",
    "\n",
    "- 투포인터($O(N)$)나 이진탐색($O(logN)$) 사용해야함\n",
    "- 반례\\\n",
    "3 \\\n",
    "0 0 0\n",
    "- 두 수의 합이 어떤 수와 같다하더라도 left 또는 right이 자기 자신을 포함하지 않게끔 해야됨\n",
    "- left가 자기 자신과 같으면 left를 옮겨주고 left가 다르면 right을 옮겨줌"
   ]
  },
  {
   "cell_type": "markdown",
   "metadata": {},
   "source": [
    "- 투포인터($O(N)$)나 이진탐색($O(logN)$) 사용해야함\n",
    "- 반례\\\n",
    "3 \\\n",
    "0 0 0\n",
    "- 두 수의 합이 어떤 수를 만들때 left 또는 right이 자기 자신을 포함하지 않게끔 해야됨\n",
    "- left가 자기 자신과 같으면 left를 옮겨주고 left가 다르면 right을 옮겨줌"
   ]
  },
  {
   "cell_type": "code",
   "execution_count": 168,
   "metadata": {},
   "outputs": [
    {
     "name": "stdout",
     "output_type": "stream",
     "text": [
      "3\n",
      "0 0 0\n",
      "0: 0 + 0 = 0\n",
      "1: 0 + 0 = 0\n",
      "2: 0 + 0 = 0\n",
      "3\n"
     ]
    }
   ],
   "source": [
    "n = int(input())\n",
    "nums = list(map(int, input().split()))\n",
    "\n",
    "# 정렬\n",
    "nums.sort()\n",
    "\n",
    "cnt = 0\n",
    "for i in range(n):\n",
    "    num = nums[i]\n",
    "    left = 0\n",
    "    right = n-1\n",
    "    while left < right:\n",
    "        left_val = nums[left]\n",
    "        right_val = nums[right]\n",
    "\n",
    "        sum_val = left_val + right_val\n",
    "\n",
    "        if sum_val == num:\n",
    "            if left != i and right != i:\n",
    "                print(f\"{i}: {left_val} + {right_val} = {sum_val}\")\n",
    "                cnt += 1\n",
    "                break\n",
    "            else:\n",
    "                if left == i:\n",
    "                    left += 1\n",
    "                else:\n",
    "                    right -= 1\n",
    "                    \n",
    "        if sum_val < num:\n",
    "            left += 1\n",
    "        elif sum_val > num:\n",
    "            right -= 1\n",
    "\n",
    "        \n",
    "print(cnt)"
   ]
  },
  {
   "cell_type": "markdown",
   "metadata": {},
   "source": [
    "# 이차원 배열과 연산\n",
    "- https://www.acmicpc.net/problem/17140"
   ]
  },
  {
   "cell_type": "markdown",
   "metadata": {},
   "source": [
    "- 3x3 배열 A\n",
    "- R 연산: 배열 A의 모든 행에 대해서 정렬을 수행한다. 행의 개수 ≥ 열의 개수인 경우에 적용된다.\n",
    "- C 연산: 배열 A의 모든 열에 대해서 정렬을 수행한다. 행의 개수 < 열의 개수인 경우에 적용된다."
   ]
  },
  {
   "cell_type": "code",
   "execution_count": 3,
   "metadata": {},
   "outputs": [],
   "source": [
    "# A[r][c]가 k가 될 때까지 while문 반복(while문은 100초)\n",
    "    # 100초가 지나기 전에 k가 되면 break\n",
    "    # 100초가 지나도 k가 안되면 -1\n",
    "# 매 초마다 행, 열의 개수를 보고 R연산 또는 C연산 수행\n",
    "# 행 또는 열이 100을 넘어가면 해당 행 또는 열의 100개를 제외하고 버림"
   ]
  },
  {
   "cell_type": "markdown",
   "metadata": {},
   "source": [
    "r,c가 3차원 배열보다 더 크게 주어지는 경우를 생각 안해서 계속 오답처리됨 -> 반례 찾아보고 수정       \n",
    "Transpose하려고 R연산과 C연산을 따로 만들어줬는데 그럴 필요 없이 **list(map(list, zip(*배열)))**을 사용하면 쉽게 Transpose할 수 있음   "
   ]
  },
  {
   "cell_type": "code",
   "execution_count": 2,
   "metadata": {},
   "outputs": [
    {
     "name": "stdout",
     "output_type": "stream",
     "text": [
      "1 2 4\n",
      "1 2 1\n",
      "2 1 3\n",
      "3 3 3\n",
      "52\n"
     ]
    }
   ],
   "source": [
    "# import sys\n",
    "# input = sys.stdin.readline\n",
    "from collections import Counter\n",
    "\n",
    "r, c, k = map(int, input().split())\n",
    "arr = [list(map(int, input().split())) for _ in range(3)]\n",
    "\n",
    "r = r - 1\n",
    "c = c - 1\n",
    "\n",
    "# 처음 행, 열의 개수\n",
    "arr_r, arr_c = 3, 3\n",
    "\n",
    "\n",
    "def shape(arr):\n",
    "    arr_r, arr_c = 0, 0\n",
    "    for i in range(len(arr)):\n",
    "        arr_r += 1\n",
    "    arr_c = len(arr[i])\n",
    "\n",
    "    return arr_r, arr_c\n",
    "\n",
    "\n",
    "# R연산\n",
    "def sort_r(arr):\n",
    "    new_arr = []\n",
    "    max_row = 0\n",
    "    for row in arr:\n",
    "        count = {key: value for key, value in Counter(row).items() if key != 0}\n",
    "        count = sorted(count.items(), key=lambda x: [x[1], x[0]])\n",
    "        # 새로 추가할 행\n",
    "        new_row = []\n",
    "        # 수와 등장횟수\n",
    "        for value, cnt in count:\n",
    "            new_row.append(value)  # 수가 먼저\n",
    "            new_row.append(cnt)\n",
    "        new_arr.append(new_row)\n",
    "        max_row = max(max_row, len(new_row))\n",
    "    for i in new_arr:\n",
    "        i.extend([0] * (max_row - len(i)))\n",
    "\n",
    "    return new_arr\n",
    "\n",
    "\n",
    "# C연산\n",
    "def sort_c(arr):\n",
    "    new_arr = []\n",
    "    max_col = 0\n",
    "    for i in range(arr_c):\n",
    "        col = []\n",
    "        for row in arr:\n",
    "            col.append(row[i])\n",
    "            count = {key: value for key, value in Counter(col).items() if key != 0}\n",
    "            count = sorted(count.items(), key=lambda x: [x[1], x[0]])\n",
    "\n",
    "        new_col = []\n",
    "\n",
    "        for value, cnt in count:\n",
    "            new_col.append(value)  # 수가 먼저\n",
    "            new_col.append(cnt)\n",
    "        max_col = max(max_col, len(new_col))\n",
    "        new_arr.append(new_col)\n",
    "\n",
    "    for i in new_arr:\n",
    "        i.extend([0] * (max_col - len(i)))\n",
    "\n",
    "    result_arr = []\n",
    "    for i in range(max_col):\n",
    "        tmp = []\n",
    "        for j in range(len(new_arr)):\n",
    "            tmp.append(new_arr[j][i])\n",
    "        result_arr.append(tmp)\n",
    "\n",
    "    return result_arr\n",
    "\n",
    "\n",
    "time = 0\n",
    "while True:\n",
    "    if time > 100:\n",
    "        print(-1)\n",
    "        sys.exit(0)\n",
    "    if arr_r - 1 >= r and arr_c - 1 >= c:\n",
    "        # k가 되면 break\n",
    "        if arr[r][c] == k:\n",
    "            break\n",
    "\n",
    "    # 행 또는 열의 크기가 100을 넘어가면 처음 100개를 제외한 나머지 버림\n",
    "    if arr_r > 100:\n",
    "        arr = arr[:][:100]\n",
    "    elif arr_c > 100:\n",
    "        tmp = [arr[i][:3] for i in range(len(arr))]\n",
    "        arr = tmp\n",
    "\n",
    "    # R연산 or C연산 선택\n",
    "    if arr_r >= arr_c:\n",
    "        arr = sort_r(arr)\n",
    "    else:\n",
    "        arr = sort_c(arr)\n",
    "\n",
    "    time += 1\n",
    "    arr_r, arr_c = shape(arr)\n",
    "\n",
    "if r <= arr_r and c <= arr_c:\n",
    "    if arr[r][c] == k:\n",
    "        print(time)"
   ]
  },
  {
   "cell_type": "markdown",
   "metadata": {},
   "source": [
    "클린 코드 출처: https://juhee-maeng.tistory.com/115"
   ]
  },
  {
   "cell_type": "code",
   "execution_count": 6,
   "metadata": {},
   "outputs": [
    {
     "name": "stdout",
     "output_type": "stream",
     "text": [
      "10 15 1\n",
      "1 1 1\n",
      "1 1 1\n",
      "1 1 1\n",
      "-1\n"
     ]
    }
   ],
   "source": [
    "from collections import Counter\n",
    "from functools import reduce\n",
    " \n",
    "## R 연산\n",
    "def R(array):\n",
    "    mx = 0  # 가장 긴 리스트의 길이\n",
    "    for i in range(len(array)):\n",
    "        X = Counter(array[i])\n",
    "        del X[0]  # 수를 정렬할 때, 0은 제외\n",
    "        X = list(X.items())\n",
    "        X.sort(key=lambda x: (x[1], x[0]))\n",
    "        if len(X) > 50: X = X[:50]  # 크기가 100을 넘기면 안됨.\n",
    "        array[i] = reduce(lambda x, y: list(x) + list(y), X[1:], list(X[0]))\n",
    "        mx = max(mx, len(array[i]))\n",
    " \n",
    "    ## 가장 긴 리스트에 맞춰, 0을 추가한다.\n",
    "    for i in range(len(array)):\n",
    "        if len(array[i]) < mx:\n",
    "            array[i].extend([0] * (mx - len(array[i])))\n",
    " \n",
    " \n",
    "def main():\n",
    "    r, c, k = map(int, input().split())\n",
    "    r, c = r - 1, c - 1\n",
    " \n",
    "    board = [list(map(int, input().split())) for _ in range(3)]\n",
    "    time = 0  # 시간\n",
    "    if r < len(board) and c < len(board[0]):\n",
    "        if board[r][c] == k: return time\n",
    " \n",
    "    while True:\n",
    "        if len(board) >= len(board[0]):  # 행의 개수 >= 열의 개수, R연산\n",
    "            R(board)                     # R 연산\n",
    "        else:                                     # 행의 개수 < 열의 개수, C연산\n",
    "            board = list(map(list, zip(*board)))  # 트랜스포즈\n",
    "            R(board)                              # R 연산\n",
    "            board = list(map(list, zip(*board)))  # 트랜스포즈\n",
    "        time += 1\n",
    "        if time > 100: return -1\n",
    "        if r < len(board) and c < len(board[0]):\n",
    "            if board[r][c] == k: return time\n",
    " \n",
    "print(main())"
   ]
  }
 ],
 "metadata": {
  "kernelspec": {
   "display_name": "Python 3",
   "language": "python",
   "name": "python3"
  },
  "language_info": {
   "codemirror_mode": {
    "name": "ipython",
    "version": 3
   },
   "file_extension": ".py",
   "mimetype": "text/x-python",
   "name": "python",
   "nbconvert_exporter": "python",
   "pygments_lexer": "ipython3",
   "version": "3.8.3"
  },
  "toc": {
   "base_numbering": 1,
   "nav_menu": {},
   "number_sections": true,
   "sideBar": true,
   "skip_h1_title": false,
   "title_cell": "Table of Contents",
   "title_sidebar": "Contents",
   "toc_cell": false,
   "toc_position": {},
   "toc_section_display": true,
   "toc_window_display": false
  }
 },
 "nbformat": 4,
 "nbformat_minor": 4
}
